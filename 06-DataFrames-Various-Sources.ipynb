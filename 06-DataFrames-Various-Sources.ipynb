{
 "cells": [
  {
   "cell_type": "markdown",
   "id": "274a2c1a",
   "metadata": {},
   "source": [
    "# DataFrame from Various sources"
   ]
  },
  {
   "cell_type": "code",
   "execution_count": 1,
   "id": "1f5994ff",
   "metadata": {},
   "outputs": [],
   "source": [
    "import os\n",
    "os.environ['SPARK_HOME'] = r\"C:\\Users\\Dani\\Documents\\Python Scripts\\Spark\"\n",
    "os.environ['PYSPARK_DRIVER_PYTHON'] = 'jupyter'\n",
    "os.environ['PYSPARK_DRIVER_PYTHON_OPTS'] = 'lab'\n",
    "os.environ['PYSPARK_PYTHON'] = 'python'\n",
    "os.environ[\"HADOOP_HOME\"] = r\"C:\\hadoop\\hadoop-3.2.2\"\n",
    "os.environ[\"PATH\"] += r\";C:\\hadoop\\hadoop-3.2.2\\bin\""
   ]
  },
  {
   "cell_type": "code",
   "execution_count": 55,
   "id": "de6939e3",
   "metadata": {},
   "outputs": [],
   "source": [
    "from pyspark.sql import SparkSession\n",
    "from pyspark.sql.functions import countDistinct, mean, median, stddev, isnan, isnull"
   ]
  },
  {
   "cell_type": "code",
   "execution_count": 3,
   "id": "f271ec6a",
   "metadata": {},
   "outputs": [],
   "source": [
    "spark = SparkSession.builder.appName(\"DFVarious\").getOrCreate()"
   ]
  },
  {
   "cell_type": "code",
   "execution_count": null,
   "id": "fc4a3311",
   "metadata": {},
   "outputs": [],
   "source": []
  },
  {
   "cell_type": "markdown",
   "id": "b22ec20d",
   "metadata": {},
   "source": [
    "## Read CSV"
   ]
  },
  {
   "cell_type": "code",
   "execution_count": 4,
   "id": "497ab6d5",
   "metadata": {},
   "outputs": [],
   "source": [
    "csv_file_path = \"data/products.csv\"\n",
    "df = spark.read.csv(csv_file_path, inferSchema=True, header=True, sep=\",\")"
   ]
  },
  {
   "cell_type": "code",
   "execution_count": 5,
   "id": "678b2978",
   "metadata": {},
   "outputs": [
    {
     "name": "stdout",
     "output_type": "stream",
     "text": [
      "+---+--------------------+---------------+--------+------+\n",
      "| id|                name|       category|quantity| price|\n",
      "+---+--------------------+---------------+--------+------+\n",
      "|  1|           iPhone 12|    Electronics|      10|899.99|\n",
      "|  2|     Nike Air Max 90|       Clothing|      25|119.99|\n",
      "|  3|KitchenAid Stand ...|Home Appliances|       5|299.99|\n",
      "|  4|    The Great Gatsby|          Books|      50| 12.99|\n",
      "|  5|L'Oreal Paris Mas...|         Beauty|     100|  9.99|\n",
      "|  6|            Yoga Mat|         Sports|      30| 29.99|\n",
      "|  7| Samsung 4K Smart TV|    Electronics|       8|799.99|\n",
      "|  8|        Levi's Jeans|       Clothing|      15| 49.99|\n",
      "|  9|Dyson Vacuum Cleaner|Home Appliances|       3|399.99|\n",
      "| 10| Harry Potter Series|          Books|      20| 15.99|\n",
      "| 11|        MAC Lipstick|         Beauty|      75| 16.99|\n",
      "| 12|Adidas Running Shoes|         Sports|      22| 59.99|\n",
      "| 13|       PlayStation 5|    Electronics|      12|499.99|\n",
      "| 14|   Hooded Sweatshirt|       Clothing|      10| 34.99|\n",
      "| 15|        Coffee Maker|Home Appliances|       7| 89.99|\n",
      "| 16|To Kill a Mocking...|          Books|      15|  9.99|\n",
      "| 17|        Skincare Set|         Beauty|      50| 49.99|\n",
      "| 18|           Yoga Ball|         Sports|      18| 19.99|\n",
      "| 19|Sony Noise-Cancel...|    Electronics|       6|299.99|\n",
      "| 20|        Puma T-shirt|       Clothing|      40| 19.99|\n",
      "+---+--------------------+---------------+--------+------+\n",
      "\n"
     ]
    }
   ],
   "source": [
    "df.show()"
   ]
  },
  {
   "cell_type": "code",
   "execution_count": 6,
   "id": "dd356ac1",
   "metadata": {},
   "outputs": [
    {
     "name": "stdout",
     "output_type": "stream",
     "text": [
      "root\n",
      " |-- id: integer (nullable = true)\n",
      " |-- name: string (nullable = true)\n",
      " |-- category: string (nullable = true)\n",
      " |-- quantity: integer (nullable = true)\n",
      " |-- price: double (nullable = true)\n",
      "\n"
     ]
    }
   ],
   "source": [
    "df.printSchema()"
   ]
  },
  {
   "cell_type": "code",
   "execution_count": null,
   "id": "e4a30f3b",
   "metadata": {},
   "outputs": [],
   "source": []
  },
  {
   "cell_type": "markdown",
   "id": "4c524a3b",
   "metadata": {},
   "source": [
    "### Read with explicit schema"
   ]
  },
  {
   "cell_type": "code",
   "execution_count": 7,
   "id": "27cd7e7f",
   "metadata": {},
   "outputs": [],
   "source": [
    "from pyspark.sql.types import StructType, StructField, StringType, IntegerType, DoubleType"
   ]
  },
  {
   "cell_type": "code",
   "execution_count": 8,
   "id": "520418ff",
   "metadata": {},
   "outputs": [],
   "source": [
    "# Define the schema\n",
    "schema = StructType([\n",
    "    StructField(name=\"id\", dataType=IntegerType(), nullable=True),\n",
    "    StructField(name=\"name\", dataType=StringType(), nullable=True),\n",
    "    StructField(name=\"category\", dataType=StringType(), nullable=True),\n",
    "    StructField(name=\"quantity\", dataType=IntegerType(), nullable=True),\n",
    "    StructField(name=\"price\", dataType=DoubleType(), nullable=True)\n",
    "])"
   ]
  },
  {
   "cell_type": "code",
   "execution_count": 9,
   "id": "64b2092a",
   "metadata": {},
   "outputs": [],
   "source": [
    "df = spark.read.csv(csv_file_path, schema=schema, header=True)"
   ]
  },
  {
   "cell_type": "code",
   "execution_count": 10,
   "metadata": {},
   "outputs": [
    {
     "name": "stdout",
     "output_type": "stream",
     "text": [
      "root\n",
      " |-- id: integer (nullable = true)\n",
      " |-- name: string (nullable = true)\n",
      " |-- category: string (nullable = true)\n",
      " |-- quantity: integer (nullable = true)\n",
      " |-- price: double (nullable = true)\n",
      "\n",
      "+---+--------------------+---------------+--------+------+\n",
      "| id|                name|       category|quantity| price|\n",
      "+---+--------------------+---------------+--------+------+\n",
      "|  1|           iPhone 12|    Electronics|      10|899.99|\n",
      "|  2|     Nike Air Max 90|       Clothing|      25|119.99|\n",
      "|  3|KitchenAid Stand ...|Home Appliances|       5|299.99|\n",
      "|  4|    The Great Gatsby|          Books|      50| 12.99|\n",
      "|  5|L'Oreal Paris Mas...|         Beauty|     100|  9.99|\n",
      "+---+--------------------+---------------+--------+------+\n",
      "only showing top 5 rows\n",
      "\n"
     ]
    }
   ],
   "source": [
    "df.printSchema()\n",
    "\n",
    "df.show(5)"
   ]
  },
  {
   "cell_type": "code",
   "execution_count": null,
   "id": "93ba3ddf",
   "metadata": {},
   "outputs": [],
   "source": []
  },
  {
   "cell_type": "markdown",
   "id": "437f1bef",
   "metadata": {},
   "source": [
    "## Read JSON file"
   ]
  },
  {
   "cell_type": "code",
   "execution_count": 11,
   "id": "772e72e3",
   "metadata": {},
   "outputs": [],
   "source": [
    "json_file_path = \"data/products_singleline.json\"\n",
    "df = spark.read.json(json_file_path, multiLine=False)"
   ]
  },
  {
   "cell_type": "code",
   "execution_count": 12,
   "id": "564956ca",
   "metadata": {},
   "outputs": [
    {
     "name": "stdout",
     "output_type": "stream",
     "text": [
      "root\n",
      " |-- category: string (nullable = true)\n",
      " |-- id: long (nullable = true)\n",
      " |-- name: string (nullable = true)\n",
      " |-- price: double (nullable = true)\n",
      " |-- quantity: long (nullable = true)\n",
      "\n",
      "+---------------+---+--------------------+------+--------+\n",
      "|       category| id|                name| price|quantity|\n",
      "+---------------+---+--------------------+------+--------+\n",
      "|    Electronics|  1|           iPhone 12|899.99|      10|\n",
      "|       Clothing|  2|     Nike Air Max 90|119.99|      25|\n",
      "|Home Appliances|  3|KitchenAid Stand ...|299.99|       5|\n",
      "|          Books|  4|    The Great Gatsby| 12.99|      50|\n",
      "|         Beauty|  5|L'Oreal Paris Mas...|  9.99|     100|\n",
      "+---------------+---+--------------------+------+--------+\n",
      "only showing top 5 rows\n",
      "\n"
     ]
    }
   ],
   "source": [
    "df.printSchema()\n",
    "\n",
    "df.show(5)"
   ]
  },
  {
   "cell_type": "code",
   "execution_count": 13,
   "id": "ea854ba9",
   "metadata": {},
   "outputs": [],
   "source": [
    "json_file_path_multi = \"data/products_multiline.json\"\n",
    "df = spark.read.json(json_file_path_multi, multiLine=True)"
   ]
  },
  {
   "cell_type": "code",
   "execution_count": 14,
   "id": "7cf66b61",
   "metadata": {},
   "outputs": [
    {
     "name": "stdout",
     "output_type": "stream",
     "text": [
      "root\n",
      " |-- category: string (nullable = true)\n",
      " |-- id: long (nullable = true)\n",
      " |-- name: string (nullable = true)\n",
      " |-- price: double (nullable = true)\n",
      " |-- quantity: long (nullable = true)\n",
      "\n",
      "+---------------+---+--------------------+------+--------+\n",
      "|       category| id|                name| price|quantity|\n",
      "+---------------+---+--------------------+------+--------+\n",
      "|    Electronics|  1|           iPhone 12|899.99|      10|\n",
      "|       Clothing|  2|     Nike Air Max 90|119.99|      25|\n",
      "|Home Appliances|  3|KitchenAid Stand ...|299.99|       5|\n",
      "|          Books|  4|    The Great Gatsby| 12.99|      50|\n",
      "|         Beauty|  5|L'Oreal Paris Mas...|  9.99|     100|\n",
      "+---------------+---+--------------------+------+--------+\n",
      "only showing top 5 rows\n",
      "\n"
     ]
    }
   ],
   "source": [
    "df.printSchema()\n",
    "df.show(5)"
   ]
  },
  {
   "cell_type": "code",
   "execution_count": null,
   "id": "83cd71d8",
   "metadata": {},
   "outputs": [],
   "source": []
  },
  {
   "cell_type": "markdown",
   "id": "20a19500",
   "metadata": {},
   "source": [
    "## Read Parquet file"
   ]
  },
  {
   "cell_type": "code",
   "execution_count": 17,
   "id": "b13b4882",
   "metadata": {},
   "outputs": [],
   "source": [
    "parquet_file_path = \"data/house-price.parquet\"\n",
    "df = spark.read.parquet(parquet_file_path)"
   ]
  },
  {
   "cell_type": "code",
   "execution_count": 19,
   "id": "2575d273",
   "metadata": {},
   "outputs": [
    {
     "name": "stdout",
     "output_type": "stream",
     "text": [
      "root\n",
      " |-- price: long (nullable = true)\n",
      " |-- area: long (nullable = true)\n",
      " |-- bedrooms: long (nullable = true)\n",
      " |-- bathrooms: long (nullable = true)\n",
      " |-- stories: long (nullable = true)\n",
      " |-- mainroad: string (nullable = true)\n",
      " |-- guestroom: string (nullable = true)\n",
      " |-- basement: string (nullable = true)\n",
      " |-- hotwaterheating: string (nullable = true)\n",
      " |-- airconditioning: string (nullable = true)\n",
      " |-- parking: long (nullable = true)\n",
      " |-- prefarea: string (nullable = true)\n",
      " |-- furnishingstatus: string (nullable = true)\n",
      "\n",
      "+--------+----+--------+---------+-------+--------+---------+--------+---------------+---------------+-------+--------+----------------+\n",
      "|   price|area|bedrooms|bathrooms|stories|mainroad|guestroom|basement|hotwaterheating|airconditioning|parking|prefarea|furnishingstatus|\n",
      "+--------+----+--------+---------+-------+--------+---------+--------+---------------+---------------+-------+--------+----------------+\n",
      "|13300000|7420|       4|        2|      3|     yes|       no|      no|             no|            yes|      2|     yes|       furnished|\n",
      "|12250000|8960|       4|        4|      4|     yes|       no|      no|             no|            yes|      3|      no|       furnished|\n",
      "|12250000|9960|       3|        2|      2|     yes|       no|     yes|             no|             no|      2|     yes|  semi-furnished|\n",
      "|12215000|7500|       4|        2|      2|     yes|       no|     yes|             no|            yes|      3|     yes|       furnished|\n",
      "|11410000|7420|       4|        1|      2|     yes|      yes|     yes|             no|            yes|      2|      no|       furnished|\n",
      "+--------+----+--------+---------+-------+--------+---------+--------+---------------+---------------+-------+--------+----------------+\n",
      "only showing top 5 rows\n",
      "\n"
     ]
    }
   ],
   "source": [
    "df.printSchema()\n",
    "df.show(5)"
   ]
  },
  {
   "cell_type": "code",
   "execution_count": 26,
   "id": "84681282",
   "metadata": {},
   "outputs": [],
   "source": [
    "df.createOrReplaceTempView(\"housing\")"
   ]
  },
  {
   "cell_type": "code",
   "execution_count": 33,
   "id": "28b75d92",
   "metadata": {},
   "outputs": [
    {
     "data": {
      "text/plain": [
       "545"
      ]
     },
     "execution_count": 33,
     "metadata": {},
     "output_type": "execute_result"
    }
   ],
   "source": [
    "len(df.collect())"
   ]
  },
  {
   "cell_type": "code",
   "execution_count": 35,
   "id": "5ee13672",
   "metadata": {},
   "outputs": [
    {
     "name": "stdout",
     "output_type": "stream",
     "text": [
      "+-----+------------------+------------------+------------------+\n",
      "| area|         avg_price|      avg_bedrooms|     avg_bathrooms|\n",
      "+-----+------------------+------------------+------------------+\n",
      "| 1950|         2835000.0|               3.0|               1.5|\n",
      "| 3800|         4147500.0|               2.5|               1.0|\n",
      "| 5850|         3570000.0|               2.5|               1.0|\n",
      "| 2520|         3773000.0|               5.0|               2.0|\n",
      "| 3120|3474333.3333333335|               3.0|               1.0|\n",
      "| 7424|         3500000.0|               3.0|               1.0|\n",
      "| 3069|         3150000.0|               2.0|               1.0|\n",
      "| 7800|         7280000.0|               3.0|               1.5|\n",
      "| 3640|         3542000.0|2.5714285714285716|1.1428571428571428|\n",
      "| 3680|         4095000.0|               3.0|               2.0|\n",
      "| 4300|         6769000.0|               4.5|               2.0|\n",
      "| 2175|         4270000.0|               3.0|               1.0|\n",
      "| 2400|         1933575.0|               3.0|               1.0|\n",
      "|10240|         4760000.0|               2.0|               1.0|\n",
      "| 6862|         4830000.0|               3.0|               1.0|\n",
      "| 1905|         4340000.0|               5.0|               1.0|\n",
      "| 3930|         3255000.0|               2.0|               1.0|\n",
      "|13200|         8365000.0|               2.5|               1.0|\n",
      "| 3240|3855833.3333333335|               3.0|               1.0|\n",
      "| 5400| 4631666.666666667|3.6666666666666665|1.1666666666666667|\n",
      "+-----+------------------+------------------+------------------+\n",
      "only showing top 20 rows\n",
      "\n"
     ]
    }
   ],
   "source": [
    "res = spark.sql(\"SELECT area, AVG(price) AS avg_price, AVG(bedrooms) AS avg_bedrooms, AVG(bathrooms) AS avg_bathrooms FROM housing GROUP BY ALL\")\n",
    "res.show()"
   ]
  },
  {
   "cell_type": "code",
   "execution_count": 46,
   "id": "23cf84db",
   "metadata": {},
   "outputs": [
    {
     "name": "stdout",
     "output_type": "stream",
     "text": [
      "Grouped and Aggregated Data:\n",
      "+-----+------------------+------------------+------------------+\n",
      "| area|     avg(bedrooms)|        avg(price)|    avg(bathrooms)|\n",
      "+-----+------------------+------------------+------------------+\n",
      "| 1950|               3.0|         2835000.0|               1.5|\n",
      "| 3800|               2.5|         4147500.0|               1.0|\n",
      "| 5850|               2.5|         3570000.0|               1.0|\n",
      "| 2520|               5.0|         3773000.0|               2.0|\n",
      "| 3120|               3.0|3474333.3333333335|               1.0|\n",
      "| 7424|               3.0|         3500000.0|               1.0|\n",
      "| 3069|               2.0|         3150000.0|               1.0|\n",
      "| 7800|               3.0|         7280000.0|               1.5|\n",
      "| 3640|2.5714285714285716|         3542000.0|1.1428571428571428|\n",
      "| 3680|               3.0|         4095000.0|               2.0|\n",
      "| 4300|               4.5|         6769000.0|               2.0|\n",
      "| 2175|               3.0|         4270000.0|               1.0|\n",
      "| 2400|               3.0|         1933575.0|               1.0|\n",
      "|10240|               2.0|         4760000.0|               1.0|\n",
      "| 6862|               3.0|         4830000.0|               1.0|\n",
      "| 1905|               5.0|         4340000.0|               1.0|\n",
      "| 3930|               2.0|         3255000.0|               1.0|\n",
      "|13200|               2.5|         8365000.0|               1.0|\n",
      "| 3240|               3.0|3855833.3333333335|               1.0|\n",
      "| 5400|3.6666666666666665| 4631666.666666667|1.1666666666666667|\n",
      "+-----+------------------+------------------+------------------+\n",
      "only showing top 20 rows\n",
      "\n"
     ]
    }
   ],
   "source": [
    "grouped_data = df.groupBy(\"area\").agg({\"price\": \"avg\", \"bedrooms\": \"avg\", \"bathrooms\": \"avg\"})\n",
    "print(\"Grouped and Aggregated Data:\")\n",
    "grouped_data.show()"
   ]
  },
  {
   "cell_type": "code",
   "execution_count": 56,
   "id": "59f8a6ab",
   "metadata": {},
   "outputs": [
    {
     "name": "stdout",
     "output_type": "stream",
     "text": [
      "+----+--------------------------+------------------+----------+------------------+\n",
      "|area|Unique Furnishing Statuses|     Mean Bedrooms|Mean Price|      Stddev Price|\n",
      "+----+--------------------------+------------------+----------+------------------+\n",
      "|1950|                         1|               3.0| 2835000.0| 841457.0696119915|\n",
      "|2145|                         2|3.1666666666666665| 3447500.0|368027.39934231347|\n",
      "|2400|                         2|               3.0| 1933575.0|235360.49211794234|\n",
      "|2610|                         2|               3.5| 3815000.0| 544472.2215136416|\n",
      "|2700|                         1|               2.5| 3146500.0| 292035.1006300441|\n",
      "|2787|                         1|               3.5| 3307500.0|1311683.0791010456|\n",
      "|2800|                         2|               3.0| 3808000.0| 1623517.169604313|\n",
      "|2880|                         2|               3.0| 3461500.0| 1331482.068974269|\n",
      "|2910|                         2|               2.5| 2177000.0| 603869.1911333116|\n",
      "|3000|                         3|2.7142857142857144| 3038000.0|1154275.0638720924|\n",
      "|3090|                         2|               2.5| 3045000.0|49497.474683058324|\n",
      "|3120|                         3|               3.0| 3500000.0|242520.78948686717|\n",
      "|3150|                         3|              2.75| 3692500.0|1074363.1834719582|\n",
      "|3180|                         3|               3.0| 3640000.0| 970038.6590234432|\n",
      "|3185|                         2|               2.0| 3360000.0| 429821.2806892341|\n",
      "|3240|                         2|               3.0| 3010000.0|1970000.5287647343|\n",
      "|3300|                         1|               3.0| 4182500.0|1905652.7752977456|\n",
      "|3420|                         2|              3.75| 4273500.0| 1354712.515628316|\n",
      "|3450|                         3|               2.6| 3395000.0| 633130.5552569707|\n",
      "|3460|                         2|               3.5| 4016250.0|12374.368670764581|\n",
      "+----+--------------------------+------------------+----------+------------------+\n",
      "only showing top 20 rows\n",
      "\n"
     ]
    }
   ],
   "source": [
    "res = df.groupBy(\"area\").agg(countDistinct(\"furnishingstatus\").alias(\"Unique Furnishing Statuses\"), \n",
    "                             mean(\"bedrooms\").alias(\"Mean Bedrooms\"),\n",
    "                             median(\"price\").alias(\"Mean Price\"),\n",
    "                             stddev(\"price\").alias(\"Stddev Price\")).filter((~isnan(\"Stddev Price\")) & (~isnull(\"Stddev Price\")))\n",
    "res.show()"
   ]
  },
  {
   "cell_type": "code",
   "execution_count": null,
   "id": "264eeb57",
   "metadata": {},
   "outputs": [],
   "source": []
  },
  {
   "cell_type": "code",
   "execution_count": null,
   "id": "9b4a9f75",
   "metadata": {},
   "outputs": [],
   "source": []
  },
  {
   "cell_type": "code",
   "execution_count": null,
   "id": "e5ed3eec",
   "metadata": {},
   "outputs": [],
   "source": []
  },
  {
   "cell_type": "code",
   "execution_count": null,
   "id": "b75f3a3b",
   "metadata": {},
   "outputs": [],
   "source": []
  }
 ],
 "metadata": {
  "kernelspec": {
   "display_name": "base",
   "language": "python",
   "name": "python3"
  },
  "language_info": {
   "codemirror_mode": {
    "name": "ipython",
    "version": 3
   },
   "file_extension": ".py",
   "mimetype": "text/x-python",
   "name": "python",
   "nbconvert_exporter": "python",
   "pygments_lexer": "ipython3",
   "version": "3.9.20"
  }
 },
 "nbformat": 4,
 "nbformat_minor": 5
}
