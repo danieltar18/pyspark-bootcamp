{
 "cells": [
  {
   "cell_type": "markdown",
   "id": "1a0b6585",
   "metadata": {},
   "source": [
    "# DataFrame Operations"
   ]
  },
  {
   "cell_type": "code",
   "execution_count": 6,
   "id": "402f460d",
   "metadata": {},
   "outputs": [],
   "source": [
    "import os\n",
    "os.environ['SPARK_HOME'] = r\"C:\\Users\\Dani\\Documents\\Python Scripts\\Spark\"\n",
    "os.environ['PYSPARK_DRIVER_PYTHON'] = 'jupyter'\n",
    "os.environ['PYSPARK_DRIVER_PYTHON_OPTS'] = 'lab'\n",
    "os.environ['PYSPARK_PYTHON'] = 'python'\n",
    "os.environ[\"HADOOP_HOME\"] = r\"C:\\hadoop\\hadoop-3.2.2\"\n",
    "os.environ[\"PATH\"] += r\";C:\\hadoop\\hadoop-3.2.2\\bin\""
   ]
  },
  {
   "cell_type": "code",
   "execution_count": 21,
   "id": "0d640d65",
   "metadata": {},
   "outputs": [],
   "source": [
    "from pyspark.sql import SparkSession\n",
    "from pyspark.sql import functions as F"
   ]
  },
  {
   "cell_type": "code",
   "execution_count": 8,
   "id": "41e93291",
   "metadata": {},
   "outputs": [],
   "source": [
    "spark = SparkSession.builder.appName(\"DataFrame-Operations\").getOrCreate()"
   ]
  },
  {
   "cell_type": "code",
   "execution_count": 9,
   "id": "ea635485",
   "metadata": {},
   "outputs": [
    {
     "name": "stdout",
     "output_type": "stream",
     "text": [
      "root\n",
      " |-- price: long (nullable = true)\n",
      " |-- area: long (nullable = true)\n",
      " |-- bedrooms: long (nullable = true)\n",
      " |-- bathrooms: long (nullable = true)\n",
      " |-- stories: long (nullable = true)\n",
      " |-- mainroad: string (nullable = true)\n",
      " |-- guestroom: string (nullable = true)\n",
      " |-- basement: string (nullable = true)\n",
      " |-- hotwaterheating: string (nullable = true)\n",
      " |-- airconditioning: string (nullable = true)\n",
      " |-- parking: long (nullable = true)\n",
      " |-- prefarea: string (nullable = true)\n",
      " |-- furnishingstatus: string (nullable = true)\n",
      "\n",
      "+--------+----+--------+---------+-------+--------+---------+--------+---------------+---------------+-------+--------+----------------+\n",
      "|   price|area|bedrooms|bathrooms|stories|mainroad|guestroom|basement|hotwaterheating|airconditioning|parking|prefarea|furnishingstatus|\n",
      "+--------+----+--------+---------+-------+--------+---------+--------+---------------+---------------+-------+--------+----------------+\n",
      "|13300000|7420|       4|        2|      3|     yes|       no|      no|             no|            yes|      2|     yes|       furnished|\n",
      "|12250000|8960|       4|        4|      4|     yes|       no|      no|             no|            yes|      3|      no|       furnished|\n",
      "|12250000|9960|       3|        2|      2|     yes|       no|     yes|             no|             no|      2|     yes|  semi-furnished|\n",
      "|12215000|7500|       4|        2|      2|     yes|       no|     yes|             no|            yes|      3|     yes|       furnished|\n",
      "|11410000|7420|       4|        1|      2|     yes|      yes|     yes|             no|            yes|      2|      no|       furnished|\n",
      "+--------+----+--------+---------+-------+--------+---------+--------+---------------+---------------+-------+--------+----------------+\n",
      "only showing top 5 rows\n",
      "\n"
     ]
    }
   ],
   "source": [
    "parquet_path = \"data/house-price.parquet\"\n",
    "df = spark.read.parquet(parquet_path)\n",
    "df.printSchema()\n",
    "df.show(5)"
   ]
  },
  {
   "cell_type": "code",
   "execution_count": null,
   "id": "37443ba0",
   "metadata": {},
   "outputs": [],
   "source": []
  },
  {
   "cell_type": "markdown",
   "id": "1e71e99a",
   "metadata": {},
   "source": [
    "## Choose Specific Column"
   ]
  },
  {
   "cell_type": "code",
   "execution_count": 12,
   "id": "685fd1dd",
   "metadata": {},
   "outputs": [
    {
     "name": "stdout",
     "output_type": "stream",
     "text": [
      "+--------+----+--------+---------+\n",
      "|   price|area|bedrooms|bathrooms|\n",
      "+--------+----+--------+---------+\n",
      "|13300000|7420|       4|        2|\n",
      "|12250000|8960|       4|        4|\n",
      "|12250000|9960|       3|        2|\n",
      "|12215000|7500|       4|        2|\n",
      "|11410000|7420|       4|        1|\n",
      "+--------+----+--------+---------+\n",
      "only showing top 5 rows\n",
      "\n"
     ]
    }
   ],
   "source": [
    "selected_cols = df.select(\"price\", \"area\", \"bedrooms\", \"bathrooms\")\n",
    "selected_cols.show(5)"
   ]
  },
  {
   "cell_type": "code",
   "execution_count": null,
   "id": "bedce4d4",
   "metadata": {},
   "outputs": [],
   "source": []
  },
  {
   "cell_type": "markdown",
   "id": "d1db6790",
   "metadata": {},
   "source": [
    "## Filter on any condition"
   ]
  },
  {
   "cell_type": "code",
   "execution_count": 15,
   "id": "fa8d95e8",
   "metadata": {},
   "outputs": [
    {
     "name": "stdout",
     "output_type": "stream",
     "text": [
      "+--------+-----+--------+---------+\n",
      "|   price| area|bedrooms|bathrooms|\n",
      "+--------+-----+--------+---------+\n",
      "|11410000| 7420|       4|        1|\n",
      "| 9870000| 8100|       4|        1|\n",
      "| 9100000| 6000|       4|        1|\n",
      "| 8120000| 6840|       5|        1|\n",
      "| 7343000|11440|       4|        1|\n",
      "+--------+-----+--------+---------+\n",
      "only showing top 5 rows\n",
      "\n"
     ]
    }
   ],
   "source": [
    "filtered_df = selected_cols.filter((selected_cols.bedrooms > 3) & (selected_cols.bathrooms < 2))\n",
    "filtered_df.show(5)"
   ]
  },
  {
   "cell_type": "code",
   "execution_count": 17,
   "id": "62128808",
   "metadata": {},
   "outputs": [
    {
     "name": "stdout",
     "output_type": "stream",
     "text": [
      "+-------------+--------------+\n",
      "|min(bedrooms)|max(bathrooms)|\n",
      "+-------------+--------------+\n",
      "|            4|             1|\n",
      "+-------------+--------------+\n",
      "\n"
     ]
    }
   ],
   "source": [
    "check = filtered_df.agg({\"bedrooms\": \"min\", \"bathrooms\":\"max\"})\n",
    "check.show()"
   ]
  },
  {
   "cell_type": "code",
   "execution_count": null,
   "id": "08090b84",
   "metadata": {},
   "outputs": [],
   "source": []
  },
  {
   "cell_type": "markdown",
   "id": "4475585d",
   "metadata": {},
   "source": [
    "## GroupBy"
   ]
  },
  {
   "cell_type": "code",
   "execution_count": 22,
   "id": "cbf4a758",
   "metadata": {},
   "outputs": [
    {
     "name": "stdout",
     "output_type": "stream",
     "text": [
      "+--------+-----+--------+---------+-------+--------+---------+--------+---------------+---------------+-------+--------+----------------+\n",
      "|   price| area|bedrooms|bathrooms|stories|mainroad|guestroom|basement|hotwaterheating|airconditioning|parking|prefarea|furnishingstatus|\n",
      "+--------+-----+--------+---------+-------+--------+---------+--------+---------------+---------------+-------+--------+----------------+\n",
      "|13300000| 7420|       4|        2|      3|     yes|       no|      no|             no|            yes|      2|     yes|       furnished|\n",
      "|12250000| 8960|       4|        4|      4|     yes|       no|      no|             no|            yes|      3|      no|       furnished|\n",
      "|12250000| 9960|       3|        2|      2|     yes|       no|     yes|             no|             no|      2|     yes|  semi-furnished|\n",
      "|12215000| 7500|       4|        2|      2|     yes|       no|     yes|             no|            yes|      3|     yes|       furnished|\n",
      "|11410000| 7420|       4|        1|      2|     yes|      yes|     yes|             no|            yes|      2|      no|       furnished|\n",
      "|10850000| 7500|       3|        3|      1|     yes|       no|     yes|             no|            yes|      2|     yes|  semi-furnished|\n",
      "|10150000| 8580|       4|        3|      4|     yes|       no|      no|             no|            yes|      2|     yes|  semi-furnished|\n",
      "|10150000|16200|       5|        3|      2|     yes|       no|      no|             no|             no|      0|      no|     unfurnished|\n",
      "| 9870000| 8100|       4|        1|      2|     yes|      yes|     yes|             no|            yes|      2|     yes|       furnished|\n",
      "| 9800000| 5750|       3|        2|      4|     yes|      yes|      no|             no|            yes|      1|     yes|     unfurnished|\n",
      "| 9800000|13200|       3|        1|      2|     yes|       no|     yes|             no|            yes|      2|     yes|       furnished|\n",
      "| 9681000| 6000|       4|        3|      2|     yes|      yes|     yes|            yes|             no|      2|      no|  semi-furnished|\n",
      "| 9310000| 6550|       4|        2|      2|     yes|       no|      no|             no|            yes|      1|     yes|  semi-furnished|\n",
      "| 9240000| 3500|       4|        2|      2|     yes|       no|      no|            yes|             no|      2|      no|       furnished|\n",
      "| 9240000| 7800|       3|        2|      2|     yes|       no|      no|             no|             no|      0|     yes|  semi-furnished|\n",
      "| 9100000| 6000|       4|        1|      2|     yes|       no|     yes|             no|             no|      2|      no|  semi-furnished|\n",
      "| 9100000| 6600|       4|        2|      2|     yes|      yes|     yes|             no|            yes|      1|     yes|     unfurnished|\n",
      "| 8960000| 8500|       3|        2|      4|     yes|       no|      no|             no|            yes|      2|      no|       furnished|\n",
      "| 8890000| 4600|       3|        2|      2|     yes|      yes|      no|             no|            yes|      2|      no|       furnished|\n",
      "| 8855000| 6420|       3|        2|      2|     yes|       no|      no|             no|            yes|      1|     yes|  semi-furnished|\n",
      "+--------+-----+--------+---------+-------+--------+---------+--------+---------------+---------------+-------+--------+----------------+\n",
      "only showing top 20 rows\n",
      "\n"
     ]
    }
   ],
   "source": [
    "df.show()"
   ]
  },
  {
   "cell_type": "code",
   "execution_count": 40,
   "id": "8e6d910c",
   "metadata": {},
   "outputs": [
    {
     "name": "stdout",
     "output_type": "stream",
     "text": [
      "+----+------------------+------------+------------------+------------------+--------------------+---------------------+-----------+\n",
      "|area|        mean_price|median_price|      stddev_price|    mean_bathrooms|houses_with_basement|houses_with_guestroom|total_price|\n",
      "+----+------------------+------------+------------------+------------------+--------------------+---------------------+-----------+\n",
      "|6000| 7051479.166666667|   7280000.0|1362431.8848483576|1.7083333333333333|                   5|                    9|  169235500|\n",
      "|5500| 5762555.555555556|   5873000.0| 1307983.190938545|1.5555555555555556|                   4|                    4|   51863000|\n",
      "|6600| 6443111.111111111|   6230000.0|1227408.1884650725|1.6666666666666667|                   7|                    4|   57988000|\n",
      "|4800|         5742800.0|   5810000.0|495583.19180537184|               1.4|                   3|                    3|   28714000|\n",
      "|6900|         5771500.0|   5771500.0|351432.07024971413|               1.5|                   2|                    2|   11543000|\n",
      "|5960|         5915000.0|   5915000.0| 3217335.854398791|               2.0|                   2|                    2|   11830000|\n",
      "|6540|         6580000.0|   5950000.0|1733118.5764395925|1.6666666666666667|                   2|                    2|   19740000|\n",
      "|3090|         3045000.0|   3045000.0|49497.474683058324|               1.0|                   1|                    1|    6090000|\n",
      "|3986|         3150000.0|   3150000.0|              null|               2.0|                   1|                    1|    3150000|\n",
      "|3000|         3309000.0|   3038000.0|1154275.0638720924|1.0714285714285714|                   5|                    1|   46326000|\n",
      "|4785|         3395000.0|   3395000.0|              null|               1.0|                   1|                    1|    3395000|\n",
      "|3630|         3515000.0|   3675000.0| 718099.3431738165|1.4285714285714286|                   1|                    1|   24605000|\n",
      "|5850|         3570000.0|   3570000.0| 890954.5442950499|               1.0|                   2|                    1|    7140000|\n",
      "|3750|         3605000.0|   3360000.0| 748214.5414251182|               1.0|                   1|                    1|   10815000|\n",
      "|6060|         3706500.0|   3706500.0| 589019.9487283941|               1.0|                   2|                    1|    7413000|\n",
      "|4050|         3850000.0|   3850000.0| 197989.8987322333|               1.0|                   1|                    1|    7700000|\n",
      "|2176|         3850000.0|   3850000.0|              null|               1.0|                   0|                    1|    3850000|\n",
      "|3240|3855833.3333333335|   3010000.0|1970000.5287647343|               1.0|                   0|                    1|   11567500|\n",
      "|3780|         3885000.0|   3885000.0|              null|               1.0|                   1|                    1|    3885000|\n",
      "|7260|         3920000.0|   3920000.0|              null|               2.0|                   1|                    1|    3920000|\n",
      "+----+------------------+------------+------------------+------------------+--------------------+---------------------+-----------+\n",
      "only showing top 20 rows\n",
      "\n"
     ]
    }
   ],
   "source": [
    "grouped_data = df.groupBy(\"area\").agg(\n",
    "    F.mean(\"price\").alias(\"mean_price\"),\n",
    "    F.median(\"price\").alias(\"median_price\"),\n",
    "    F.stddev(\"price\").alias(\"stddev_price\"),\n",
    "    F.mean(\"bathrooms\").alias(\"mean_bathrooms\"),\n",
    "    F.count(F.when(F.col(\"basement\") == \"yes\", F.col(\"area\"))).alias(\"houses_with_basement\"),\n",
    "    F.count(F.when(F.col(\"guestroom\") == \"yes\", F.col(\"area\"))).alias(\"houses_with_guestroom\"),\n",
    "    F.sum(F.col(\"price\")).alias(\"total_price\")).orderBy(F.desc(\"houses_with_guestroom\"), F.asc(\"mean_price\"))\n",
    "\n",
    "grouped_data.show()"
   ]
  },
  {
   "cell_type": "code",
   "execution_count": null,
   "id": "eb9a7963",
   "metadata": {},
   "outputs": [],
   "source": []
  },
  {
   "cell_type": "markdown",
   "id": "a2c8c684",
   "metadata": {},
   "source": [
    "## Join multiple dataframes"
   ]
  },
  {
   "cell_type": "code",
   "execution_count": 43,
   "id": "5817abb9",
   "metadata": {},
   "outputs": [
    {
     "name": "stdout",
     "output_type": "stream",
     "text": [
      "Joined Data:\n",
      "+-----+--------+--------+---------+-------+--------+---------+--------+---------------+---------------+-------+--------+----------------+---------+---------+\n",
      "| area|   price|bedrooms|bathrooms|stories|mainroad|guestroom|basement|hotwaterheating|airconditioning|parking|prefarea|furnishingstatus|bathrooms|guestroom|\n",
      "+-----+--------+--------+---------+-------+--------+---------+--------+---------------+---------------+-------+--------+----------------+---------+---------+\n",
      "| 7420|13300000|       4|        2|      3|     yes|       no|      no|             no|            yes|      2|     yes|       furnished|        2|       no|\n",
      "| 8960|12250000|       4|        4|      4|     yes|       no|      no|             no|            yes|      3|      no|       furnished|        4|       no|\n",
      "| 9960|12250000|       3|        2|      2|     yes|       no|     yes|             no|             no|      2|     yes|  semi-furnished|        2|       no|\n",
      "| 7500|12215000|       4|        2|      2|     yes|       no|     yes|             no|            yes|      3|     yes|       furnished|        2|       no|\n",
      "| 7420|11410000|       4|        1|      2|     yes|      yes|     yes|             no|            yes|      2|      no|       furnished|        1|      yes|\n",
      "| 7500|10850000|       3|        3|      1|     yes|       no|     yes|             no|            yes|      2|     yes|  semi-furnished|        3|       no|\n",
      "| 8580|10150000|       4|        3|      4|     yes|       no|      no|             no|            yes|      2|     yes|  semi-furnished|        3|       no|\n",
      "|16200|10150000|       5|        3|      2|     yes|       no|      no|             no|             no|      0|      no|     unfurnished|        3|       no|\n",
      "| 8100| 9870000|       4|        1|      2|     yes|      yes|     yes|             no|            yes|      2|     yes|       furnished|        1|      yes|\n",
      "| 5750| 9800000|       3|        2|      4|     yes|      yes|      no|             no|            yes|      1|     yes|     unfurnished|        2|      yes|\n",
      "|13200| 9800000|       3|        1|      2|     yes|       no|     yes|             no|            yes|      2|     yes|       furnished|        1|       no|\n",
      "| 6000| 9681000|       4|        3|      2|     yes|      yes|     yes|            yes|             no|      2|      no|  semi-furnished|        3|      yes|\n",
      "| 6550| 9310000|       4|        2|      2|     yes|       no|      no|             no|            yes|      1|     yes|  semi-furnished|        2|       no|\n",
      "| 3500| 9240000|       4|        2|      2|     yes|       no|      no|            yes|             no|      2|      no|       furnished|        2|       no|\n",
      "| 7800| 9240000|       3|        2|      2|     yes|       no|      no|             no|             no|      0|     yes|  semi-furnished|        2|       no|\n",
      "| 6000| 9100000|       4|        1|      2|     yes|       no|     yes|             no|             no|      2|      no|  semi-furnished|        1|       no|\n",
      "| 6600| 9100000|       4|        2|      2|     yes|      yes|     yes|             no|            yes|      1|     yes|     unfurnished|        2|      yes|\n",
      "| 8500| 8960000|       3|        2|      4|     yes|       no|      no|             no|            yes|      2|      no|       furnished|        2|       no|\n",
      "| 4600| 8890000|       3|        2|      2|     yes|      yes|      no|             no|            yes|      2|      no|       furnished|        2|      yes|\n",
      "| 6420| 8855000|       3|        2|      2|     yes|       no|      no|             no|            yes|      1|     yes|  semi-furnished|        2|       no|\n",
      "+-----+--------+--------+---------+-------+--------+---------+--------+---------------+---------------+-------+--------+----------------+---------+---------+\n",
      "only showing top 20 rows\n",
      "\n"
     ]
    }
   ],
   "source": [
    "df2 = df.select(\"area\", \"price\", \"bathrooms\", \"guestroom\")\n",
    "joined_data = df.join(df2, [\"area\", \"price\"], \"inner\")\n",
    "print(\"Joined Data:\")\n",
    "joined_data.show()"
   ]
  },
  {
   "cell_type": "code",
   "execution_count": null,
   "id": "198b36e7",
   "metadata": {},
   "outputs": [],
   "source": []
  },
  {
   "cell_type": "markdown",
   "id": "41320b7d",
   "metadata": {},
   "source": [
    "## Get unique rows"
   ]
  },
  {
   "cell_type": "code",
   "execution_count": 44,
   "id": "d380a9a7",
   "metadata": {},
   "outputs": [
    {
     "name": "stdout",
     "output_type": "stream",
     "text": [
      "+-----+\n",
      "| area|\n",
      "+-----+\n",
      "| 1950|\n",
      "| 3800|\n",
      "| 5850|\n",
      "| 2520|\n",
      "| 3120|\n",
      "| 7424|\n",
      "| 3069|\n",
      "| 7800|\n",
      "| 3640|\n",
      "| 3680|\n",
      "| 4300|\n",
      "| 2175|\n",
      "| 2400|\n",
      "|10240|\n",
      "| 6862|\n",
      "| 1905|\n",
      "| 3930|\n",
      "|13200|\n",
      "| 3240|\n",
      "| 5400|\n",
      "+-----+\n",
      "only showing top 20 rows\n",
      "\n"
     ]
    }
   ],
   "source": [
    "distinct_areas = df.select(\"area\").distinct()\n",
    "distinct_areas.show()"
   ]
  },
  {
   "cell_type": "code",
   "execution_count": null,
   "id": "1fec3b3f",
   "metadata": {},
   "outputs": [],
   "source": []
  },
  {
   "cell_type": "markdown",
   "id": "c72a1bd6",
   "metadata": {},
   "source": [
    "## Drop Columns"
   ]
  },
  {
   "cell_type": "code",
   "execution_count": 47,
   "id": "517013bb",
   "metadata": {},
   "outputs": [
    {
     "name": "stdout",
     "output_type": "stream",
     "text": [
      "+----+--------+--------+-------+--------+--------+---------------+---------------+-------+--------+----------------+\n",
      "|area|   price|bedrooms|stories|mainroad|basement|hotwaterheating|airconditioning|parking|prefarea|furnishingstatus|\n",
      "+----+--------+--------+-------+--------+--------+---------------+---------------+-------+--------+----------------+\n",
      "|7420|13300000|       4|      3|     yes|      no|             no|            yes|      2|     yes|       furnished|\n",
      "|8960|12250000|       4|      4|     yes|      no|             no|            yes|      3|      no|       furnished|\n",
      "|9960|12250000|       3|      2|     yes|     yes|             no|             no|      2|     yes|  semi-furnished|\n",
      "|7500|12215000|       4|      2|     yes|     yes|             no|            yes|      3|     yes|       furnished|\n",
      "|7420|11410000|       4|      2|     yes|     yes|             no|            yes|      2|      no|       furnished|\n",
      "+----+--------+--------+-------+--------+--------+---------------+---------------+-------+--------+----------------+\n",
      "only showing top 5 rows\n",
      "\n"
     ]
    }
   ],
   "source": [
    "joined_data = joined_data.drop(\"bathrooms\", \"guestroom\")\n",
    "joined_data.show(5)"
   ]
  },
  {
   "cell_type": "code",
   "execution_count": null,
   "id": "e2c2a3ef",
   "metadata": {},
   "outputs": [],
   "source": []
  },
  {
   "cell_type": "markdown",
   "id": "b025966a",
   "metadata": {},
   "source": [
    "## WithColumn: Add new calculated columns.\n"
   ]
  },
  {
   "cell_type": "code",
   "execution_count": 48,
   "id": "0d37ecfd",
   "metadata": {},
   "outputs": [
    {
     "name": "stdout",
     "output_type": "stream",
     "text": [
      "+--------+----+--------+---------+-------+--------+---------+--------+---------------+---------------+-------+--------+----------------+\n",
      "|   price|area|bedrooms|bathrooms|stories|mainroad|guestroom|basement|hotwaterheating|airconditioning|parking|prefarea|furnishingstatus|\n",
      "+--------+----+--------+---------+-------+--------+---------+--------+---------------+---------------+-------+--------+----------------+\n",
      "|13300000|7420|       4|        2|      3|     yes|       no|      no|             no|            yes|      2|     yes|       furnished|\n",
      "|12250000|8960|       4|        4|      4|     yes|       no|      no|             no|            yes|      3|      no|       furnished|\n",
      "|12250000|9960|       3|        2|      2|     yes|       no|     yes|             no|             no|      2|     yes|  semi-furnished|\n",
      "+--------+----+--------+---------+-------+--------+---------+--------+---------------+---------------+-------+--------+----------------+\n",
      "only showing top 3 rows\n",
      "\n"
     ]
    }
   ],
   "source": [
    "df.show(3)"
   ]
  },
  {
   "cell_type": "code",
   "execution_count": 49,
   "id": "055301c9",
   "metadata": {},
   "outputs": [
    {
     "name": "stdout",
     "output_type": "stream",
     "text": [
      "DataFrame with New Column:\n",
      "+--------+-----+--------+---------+-------+--------+---------+--------+---------------+---------------+-------+--------+----------------+------------+\n",
      "|   price| area|bedrooms|bathrooms|stories|mainroad|guestroom|basement|hotwaterheating|airconditioning|parking|prefarea|furnishingstatus|total_places|\n",
      "+--------+-----+--------+---------+-------+--------+---------+--------+---------------+---------------+-------+--------+----------------+------------+\n",
      "|13300000| 7420|       4|        2|      3|     yes|       no|      no|             no|            yes|      2|     yes|       furnished|           9|\n",
      "|12250000| 8960|       4|        4|      4|     yes|       no|      no|             no|            yes|      3|      no|       furnished|          12|\n",
      "|12250000| 9960|       3|        2|      2|     yes|       no|     yes|             no|             no|      2|     yes|  semi-furnished|           7|\n",
      "|12215000| 7500|       4|        2|      2|     yes|       no|     yes|             no|            yes|      3|     yes|       furnished|           8|\n",
      "|11410000| 7420|       4|        1|      2|     yes|      yes|     yes|             no|            yes|      2|      no|       furnished|           7|\n",
      "|10850000| 7500|       3|        3|      1|     yes|       no|     yes|             no|            yes|      2|     yes|  semi-furnished|           7|\n",
      "|10150000| 8580|       4|        3|      4|     yes|       no|      no|             no|            yes|      2|     yes|  semi-furnished|          11|\n",
      "|10150000|16200|       5|        3|      2|     yes|       no|      no|             no|             no|      0|      no|     unfurnished|          10|\n",
      "| 9870000| 8100|       4|        1|      2|     yes|      yes|     yes|             no|            yes|      2|     yes|       furnished|           7|\n",
      "| 9800000| 5750|       3|        2|      4|     yes|      yes|      no|             no|            yes|      1|     yes|     unfurnished|           9|\n",
      "+--------+-----+--------+---------+-------+--------+---------+--------+---------------+---------------+-------+--------+----------------+------------+\n",
      "only showing top 10 rows\n",
      "\n"
     ]
    }
   ],
   "source": [
    "df_with_new_column = df.withColumn(\"total_places\", df.bedrooms + df.bathrooms + df.stories)\n",
    "print(\"DataFrame with New Column:\")\n",
    "df_with_new_column.show(10)"
   ]
  },
  {
   "cell_type": "code",
   "execution_count": 50,
   "id": "90b300c1",
   "metadata": {},
   "outputs": [],
   "source": [
    "spark.stop()"
   ]
  },
  {
   "cell_type": "code",
   "execution_count": null,
   "id": "88184a28",
   "metadata": {},
   "outputs": [],
   "source": []
  }
 ],
 "metadata": {
  "kernelspec": {
   "display_name": "base",
   "language": "python",
   "name": "python3"
  },
  "language_info": {
   "codemirror_mode": {
    "name": "ipython",
    "version": 3
   },
   "file_extension": ".py",
   "mimetype": "text/x-python",
   "name": "python",
   "nbconvert_exporter": "python",
   "pygments_lexer": "ipython3",
   "version": "3.9.20"
  }
 },
 "nbformat": 4,
 "nbformat_minor": 5
}
