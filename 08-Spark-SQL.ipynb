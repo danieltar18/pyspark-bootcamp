{
 "cells": [
  {
   "cell_type": "markdown",
   "id": "7faae709",
   "metadata": {},
   "source": [
    "# Spark SQL"
   ]
  },
  {
   "cell_type": "code",
   "execution_count": 1,
   "id": "dcefcf63",
   "metadata": {},
   "outputs": [],
   "source": [
    "import os\n",
    "os.environ['SPARK_HOME'] = r\"C:\\Users\\Dani\\Documents\\Python Scripts\\Spark\"\n",
    "os.environ['PYSPARK_DRIVER_PYTHON'] = 'jupyter'\n",
    "os.environ['PYSPARK_DRIVER_PYTHON_OPTS'] = 'lab'\n",
    "os.environ['PYSPARK_PYTHON'] = 'python'\n",
    "os.environ[\"HADOOP_HOME\"] = r\"C:\\hadoop\\hadoop-3.2.2\"\n",
    "os.environ[\"PATH\"] += r\";C:\\hadoop\\hadoop-3.2.2\\bin\""
   ]
  },
  {
   "cell_type": "code",
   "execution_count": 2,
   "id": "3f121a74",
   "metadata": {},
   "outputs": [],
   "source": [
    "from pyspark.sql import SparkSession\n",
    "from pyspark.sql import functions as F"
   ]
  },
  {
   "cell_type": "code",
   "execution_count": 3,
   "id": "d144a708",
   "metadata": {},
   "outputs": [],
   "source": [
    "spark = SparkSession.builder.appName(\"SQLSpark\").getOrCreate()"
   ]
  },
  {
   "cell_type": "code",
   "execution_count": 4,
   "id": "a32bf1cc",
   "metadata": {},
   "outputs": [
    {
     "name": "stdout",
     "output_type": "stream",
     "text": [
      "root\n",
      " |-- price: long (nullable = true)\n",
      " |-- area: long (nullable = true)\n",
      " |-- bedrooms: long (nullable = true)\n",
      " |-- bathrooms: long (nullable = true)\n",
      " |-- stories: long (nullable = true)\n",
      " |-- mainroad: string (nullable = true)\n",
      " |-- guestroom: string (nullable = true)\n",
      " |-- basement: string (nullable = true)\n",
      " |-- hotwaterheating: string (nullable = true)\n",
      " |-- airconditioning: string (nullable = true)\n",
      " |-- parking: long (nullable = true)\n",
      " |-- prefarea: string (nullable = true)\n",
      " |-- furnishingstatus: string (nullable = true)\n",
      "\n",
      "+--------+----+--------+---------+-------+--------+---------+--------+---------------+---------------+-------+--------+----------------+\n",
      "|   price|area|bedrooms|bathrooms|stories|mainroad|guestroom|basement|hotwaterheating|airconditioning|parking|prefarea|furnishingstatus|\n",
      "+--------+----+--------+---------+-------+--------+---------+--------+---------------+---------------+-------+--------+----------------+\n",
      "|13300000|7420|       4|        2|      3|     yes|       no|      no|             no|            yes|      2|     yes|       furnished|\n",
      "|12250000|8960|       4|        4|      4|     yes|       no|      no|             no|            yes|      3|      no|       furnished|\n",
      "|12250000|9960|       3|        2|      2|     yes|       no|     yes|             no|             no|      2|     yes|  semi-furnished|\n",
      "|12215000|7500|       4|        2|      2|     yes|       no|     yes|             no|            yes|      3|     yes|       furnished|\n",
      "|11410000|7420|       4|        1|      2|     yes|      yes|     yes|             no|            yes|      2|      no|       furnished|\n",
      "+--------+----+--------+---------+-------+--------+---------+--------+---------------+---------------+-------+--------+----------------+\n",
      "only showing top 5 rows\n",
      "\n"
     ]
    }
   ],
   "source": [
    "df = spark.read.parquet(\"data/house-price.parquet\")\n",
    "df.printSchema()\n",
    "df.show(5)"
   ]
  },
  {
   "cell_type": "code",
   "execution_count": 5,
   "id": "7d94e3fa",
   "metadata": {},
   "outputs": [],
   "source": [
    "df.createOrReplaceTempView(\"housing_df\")"
   ]
  },
  {
   "cell_type": "code",
   "execution_count": 6,
   "id": "21b280d7",
   "metadata": {},
   "outputs": [
    {
     "name": "stdout",
     "output_type": "stream",
     "text": [
      "+-------+----+--------+---------+-------+--------+---------+--------+---------------+---------------+-------+--------+----------------+\n",
      "|  price|area|bedrooms|bathrooms|stories|mainroad|guestroom|basement|hotwaterheating|airconditioning|parking|prefarea|furnishingstatus|\n",
      "+-------+----+--------+---------+-------+--------+---------+--------+---------------+---------------+-------+--------+----------------+\n",
      "|3150000|1650|       3|        1|      2|      no|       no|     yes|             no|             no|      0|      no|     unfurnished|\n",
      "|1890000|1700|       3|        1|      2|     yes|       no|      no|             no|             no|      0|      no|     unfurnished|\n",
      "|2275000|1836|       2|        1|      1|      no|       no|     yes|             no|             no|      0|      no|  semi-furnished|\n",
      "|4340000|1905|       5|        1|      2|      no|       no|     yes|             no|             no|      0|      no|  semi-furnished|\n",
      "|3430000|1950|       3|        2|      2|     yes|       no|     yes|             no|             no|      0|     yes|     unfurnished|\n",
      "+-------+----+--------+---------+-------+--------+---------+--------+---------------+---------------+-------+--------+----------------+\n",
      "only showing top 5 rows\n",
      "\n"
     ]
    }
   ],
   "source": [
    "test = spark.sql(\"SELECT * FROM housing_df ORDER BY area\")\n",
    "test.show(5)"
   ]
  },
  {
   "cell_type": "code",
   "execution_count": 10,
   "id": "c80c56e9",
   "metadata": {},
   "outputs": [
    {
     "data": {
      "text/plain": [
       "True"
      ]
     },
     "execution_count": 10,
     "metadata": {},
     "output_type": "execute_result"
    }
   ],
   "source": [
    "spark.catalog.tableExists(\"housing_df\")"
   ]
  },
  {
   "cell_type": "code",
   "execution_count": 29,
   "id": "0376ef03",
   "metadata": {},
   "outputs": [
    {
     "name": "stdout",
     "output_type": "stream",
     "text": [
      "+----+------------------+------------+--------------------+-------------+-----------------------------+\n",
      "|area|avg_price         |total_places|houses_with_mainroad|total_parking|furnishing_statuses          |\n",
      "+----+------------------+------------+--------------------+-------------+-----------------------------+\n",
      "|1650|3150000.0         |6           |0                   |0            |[unfurnished]                |\n",
      "|1700|1890000.0         |6           |1                   |0            |[unfurnished]                |\n",
      "|1836|2275000.0         |4           |0                   |0            |[semi-furnished]             |\n",
      "|1905|4340000.0         |8           |0                   |0            |[semi-furnished]             |\n",
      "|1950|2835000.0         |12          |1                   |0            |[unfurnished]                |\n",
      "|2000|2660000.0         |5           |1                   |0            |[semi-furnished]             |\n",
      "|2015|3850000.0         |6           |1                   |0            |[semi-furnished]             |\n",
      "|2135|3500000.0         |7           |0                   |0            |[unfurnished]                |\n",
      "|2145|3606166.6666666665|40          |6                   |1            |[unfurnished, furnished]     |\n",
      "|2160|3080000.0         |6           |0                   |0            |[semi-furnished]             |\n",
      "|2175|4270000.0         |6           |0                   |0            |[unfurnished]                |\n",
      "|2176|3850000.0         |5           |1                   |0            |[semi-furnished]             |\n",
      "|2275|3640000.0         |7           |1                   |0            |[semi-furnished]             |\n",
      "|2325|4200000.0         |6           |0                   |0            |[semi-furnished]             |\n",
      "|2398|3118850.0         |5           |1                   |0            |[semi-furnished]             |\n",
      "|2400|1933575.0         |11          |1                   |0            |[semi-furnished, unfurnished]|\n",
      "|2430|2660000.0         |5           |0                   |0            |[unfurnished]                |\n",
      "|2475|2380000.0         |6           |1                   |0            |[furnished]                  |\n",
      "|2500|3290000.0         |4           |0                   |0            |[unfurnished]                |\n",
      "|2520|3773000.0         |8           |0                   |1            |[furnished]                  |\n",
      "+----+------------------+------------+--------------------+-------------+-----------------------------+\n",
      "only showing top 20 rows\n",
      "\n"
     ]
    }
   ],
   "source": [
    "new_df = spark.sql(\"SELECT area, AVG(price) AS avg_price, SUM(bedrooms+bathrooms+stories) AS total_places, \" \\\n",
    "\"COUNT(CASE WHEN mainroad = 'yes' THEN area END) AS houses_with_mainroad,\" \\\n",
    "\"SUM(parking) as total_parking,\" \"ARRAY_AGG(DISTINCT furnishingstatus) AS furnishing_statuses FROM housing_df GROUP BY ALL\")\n",
    "\n",
    "new_df.show(20, False)"
   ]
  },
  {
   "cell_type": "code",
   "execution_count": null,
   "id": "aed35a7c",
   "metadata": {},
   "outputs": [],
   "source": []
  },
  {
   "cell_type": "code",
   "execution_count": null,
   "id": "f665389a",
   "metadata": {},
   "outputs": [],
   "source": []
  }
 ],
 "metadata": {
  "kernelspec": {
   "display_name": "base",
   "language": "python",
   "name": "python3"
  },
  "language_info": {
   "codemirror_mode": {
    "name": "ipython",
    "version": 3
   },
   "file_extension": ".py",
   "mimetype": "text/x-python",
   "name": "python",
   "nbconvert_exporter": "python",
   "pygments_lexer": "ipython3",
   "version": "3.9.20"
  }
 },
 "nbformat": 4,
 "nbformat_minor": 5
}
