{
 "cells": [
  {
   "cell_type": "markdown",
   "id": "8487dfdb",
   "metadata": {},
   "source": [
    "# RDD - Resilient Distributed Dataset"
   ]
  },
  {
   "cell_type": "code",
   "execution_count": 21,
   "id": "f548d007",
   "metadata": {},
   "outputs": [],
   "source": [
    "import os\n",
    "os.environ['SPARK_HOME'] = r\"C:\\Users\\Dani\\Documents\\Python Scripts\\Spark\"\n",
    "os.environ['PYSPARK_DRIVER_PYTHON'] = 'jupyter'\n",
    "os.environ['PYSPARK_DRIVER_PYTHON_OPTS'] = 'lab'\n",
    "os.environ['PYSPARK_PYTHON'] = 'python'"
   ]
  },
  {
   "cell_type": "code",
   "execution_count": 22,
   "id": "645d529c",
   "metadata": {},
   "outputs": [],
   "source": [
    "from pyspark.sql import SparkSession"
   ]
  },
  {
   "cell_type": "code",
   "execution_count": 24,
   "id": "99e94c51",
   "metadata": {},
   "outputs": [],
   "source": [
    "spark = SparkSession.builder.appName(\"My4App\").getOrCreate()"
   ]
  },
  {
   "cell_type": "code",
   "execution_count": 25,
   "id": "354b93ca",
   "metadata": {},
   "outputs": [],
   "source": [
    "numbers = [1, 2, 3, 4, 5]\n",
    "rdd = spark.sparkContext.parallelize(numbers)"
   ]
  },
  {
   "cell_type": "code",
   "execution_count": 26,
   "id": "286adf6c",
   "metadata": {},
   "outputs": [
    {
     "data": {
      "text/plain": [
       "ParallelCollectionRDD[0] at readRDDFromFile at PythonRDD.scala:287"
      ]
     },
     "execution_count": 26,
     "metadata": {},
     "output_type": "execute_result"
    }
   ],
   "source": [
    "rdd"
   ]
  },
  {
   "cell_type": "code",
   "execution_count": 27,
   "id": "29ae4ffc",
   "metadata": {},
   "outputs": [
    {
     "data": {
      "text/plain": [
       "[1, 2, 3, 4, 5]"
      ]
     },
     "execution_count": 27,
     "metadata": {},
     "output_type": "execute_result"
    }
   ],
   "source": [
    "rdd.collect()"
   ]
  },
  {
   "cell_type": "code",
   "execution_count": 28,
   "id": "92a1fe08",
   "metadata": {},
   "outputs": [],
   "source": [
    "# Create an RDD from a list of car-related tuples\n",
    "data = [\n",
    "    (\"BMW\", 2024, 4.5),\n",
    "    (\"Audi\", 2023, 2.0),\n",
    "    (\"BMW\", 2021, 3.0),\n",
    "    (\"Tesla\", 2022, 0.0)\n",
    "]\n",
    "\n",
    "rdd = spark.sparkContext.parallelize(data)\n"
   ]
  },
  {
   "cell_type": "code",
   "execution_count": 29,
   "id": "28c90692",
   "metadata": {},
   "outputs": [
    {
     "name": "stdout",
     "output_type": "stream",
     "text": [
      "All elements of the rdd:  [('BMW', 2024, 4.5), ('Audi', 2023, 2.0), ('BMW', 2021, 3.0), ('Tesla', 2022, 0.0)]\n"
     ]
    }
   ],
   "source": [
    "# Collect action: Retrieve all elements of the RDD\n",
    "print(\"All elements of the rdd: \", rdd.collect())"
   ]
  },
  {
   "cell_type": "code",
   "execution_count": null,
   "id": "2f7941c1",
   "metadata": {},
   "outputs": [],
   "source": []
  },
  {
   "cell_type": "markdown",
   "id": "de8305ef",
   "metadata": {},
   "source": [
    "## RDDs Operation: Actions"
   ]
  },
  {
   "cell_type": "code",
   "execution_count": 30,
   "id": "e23b4e3b",
   "metadata": {},
   "outputs": [
    {
     "name": "stdout",
     "output_type": "stream",
     "text": [
      "The total number of elements in rdd:  4\n"
     ]
    }
   ],
   "source": [
    "# Count action: Count the number of elements in the RDD\n",
    "count = rdd.count()\n",
    "print(\"The total number of elements in rdd: \", count)"
   ]
  },
  {
   "cell_type": "code",
   "execution_count": 31,
   "id": "6da99e5c",
   "metadata": {},
   "outputs": [
    {
     "name": "stdout",
     "output_type": "stream",
     "text": [
      "The first element of the rdd:  ('BMW', 2024, 4.5)\n"
     ]
    }
   ],
   "source": [
    "# First action: Retrieve the first element of the RDD\n",
    "first_element = rdd.first()\n",
    "print(\"The first element of the rdd: \", first_element)"
   ]
  },
  {
   "cell_type": "code",
   "execution_count": 32,
   "id": "df4b0ad9",
   "metadata": {},
   "outputs": [
    {
     "name": "stdout",
     "output_type": "stream",
     "text": [
      "The first two elements of the rdd:  [('BMW', 2024, 4.5), ('Audi', 2023, 2.0)]\n"
     ]
    }
   ],
   "source": [
    "# Take action: Retrieve the n elements of the RDD\n",
    "taken_elements = rdd.take(2)\n",
    "print(\"The first two elements of the rdd: \", taken_elements)"
   ]
  },
  {
   "cell_type": "code",
   "execution_count": 34,
   "id": "2cf06207",
   "metadata": {},
   "outputs": [],
   "source": [
    "# Foreach action: Print each element of the RDD\n",
    "rdd.foreach(lambda x: print(x))"
   ]
  },
  {
   "cell_type": "code",
   "execution_count": null,
   "id": "d2863ff2",
   "metadata": {},
   "outputs": [],
   "source": []
  },
  {
   "cell_type": "markdown",
   "id": "b114c68b",
   "metadata": {},
   "source": [
    "## RDDS Operation: Transformations"
   ]
  },
  {
   "cell_type": "code",
   "execution_count": 43,
   "id": "2d556199",
   "metadata": {},
   "outputs": [],
   "source": [
    "# Map transformation: Convert name to uppercase\n",
    "mapped_rdd = rdd.map(lambda x: (x[0].upper(), str(x[1]) + \" year\", str(x[2])+\"l\"))"
   ]
  },
  {
   "cell_type": "code",
   "execution_count": 44,
   "id": "4614a7bf",
   "metadata": {},
   "outputs": [
    {
     "data": {
      "text/plain": [
       "[('BMW', '2024 year', '4.5l'), ('AUDI', '2023 year', '2.0l')]"
      ]
     },
     "execution_count": 44,
     "metadata": {},
     "output_type": "execute_result"
    }
   ],
   "source": [
    "mapped_rdd.take(2)"
   ]
  },
  {
   "cell_type": "code",
   "execution_count": null,
   "id": "3b02bdba",
   "metadata": {},
   "outputs": [
    {
     "data": {
      "text/plain": [
       "[('BMW', 2024, 4.5), ('BMW', 2021, 3.0)]"
      ]
     },
     "execution_count": 45,
     "metadata": {},
     "output_type": "execute_result"
    }
   ],
   "source": [
    "# Filter transformation: Filter records where engine is greater then 2.5l\n",
    "filtered_rdd = rdd.filter(lambda x: x[2] > 2.5)\n",
    "filtered_rdd.collect()"
   ]
  },
  {
   "cell_type": "code",
   "execution_count": 51,
   "id": "bd781f98",
   "metadata": {},
   "outputs": [
    {
     "data": {
      "text/plain": [
       "[('Tesla', 0.0), ('Audi', 2.0), ('BMW', 7.5)]"
      ]
     },
     "execution_count": 51,
     "metadata": {},
     "output_type": "execute_result"
    }
   ],
   "source": [
    "# ReduceByKey transformation:\n",
    "reduced_rdd = rdd.map(lambda x: (x[0], x[2])) \n",
    "reduced_rdd = reduced_rdd.reduceByKey(lambda x, y: x + y)\n",
    "reduced_rdd.collect()"
   ]
  },
  {
   "cell_type": "code",
   "execution_count": 47,
   "id": "2b7d57ed",
   "metadata": {},
   "outputs": [
    {
     "data": {
      "text/plain": [
       "[('BMW', 2024, 4.5),\n",
       " ('Audi', 2023, 2.0),\n",
       " ('Tesla', 2022, 0.0),\n",
       " ('BMW', 2021, 3.0)]"
      ]
     },
     "execution_count": 47,
     "metadata": {},
     "output_type": "execute_result"
    }
   ],
   "source": [
    "# SortBy transformation: Sort the RDD by year in descending order\n",
    "sorted_rdd = rdd.sortBy(lambda x: x[1], ascending=False)\n",
    "sorted_rdd.collect()"
   ]
  },
  {
   "cell_type": "code",
   "execution_count": null,
   "id": "e8302805",
   "metadata": {},
   "outputs": [],
   "source": []
  },
  {
   "cell_type": "markdown",
   "id": "d27b075b",
   "metadata": {},
   "source": [
    "## Save RDDs"
   ]
  },
  {
   "cell_type": "code",
   "execution_count": null,
   "id": "7cc091ca",
   "metadata": {},
   "outputs": [],
   "source": [
    "# Save action: Save the RDD to a text file\n",
    "rdd.saveAsTextFile(\"output.txt\")"
   ]
  },
  {
   "cell_type": "code",
   "execution_count": null,
   "id": "3ed7758f",
   "metadata": {},
   "outputs": [],
   "source": [
    "# create rdd from text file\n",
    "rdd_text = spark.sparkContext.textFile(\"output.txt\")\n",
    "rdd_text.collect()"
   ]
  },
  {
   "cell_type": "code",
   "execution_count": null,
   "id": "523171d9",
   "metadata": {},
   "outputs": [],
   "source": [
    "spark.stop()"
   ]
  },
  {
   "cell_type": "code",
   "execution_count": null,
   "id": "e0ea77ca",
   "metadata": {},
   "outputs": [],
   "source": []
  },
  {
   "cell_type": "code",
   "execution_count": null,
   "id": "2efeb2d7",
   "metadata": {},
   "outputs": [],
   "source": []
  }
 ],
 "metadata": {
  "kernelspec": {
   "display_name": "base",
   "language": "python",
   "name": "python3"
  },
  "language_info": {
   "codemirror_mode": {
    "name": "ipython",
    "version": 3
   },
   "file_extension": ".py",
   "mimetype": "text/x-python",
   "name": "python",
   "nbconvert_exporter": "python",
   "pygments_lexer": "ipython3",
   "version": "3.9.20"
  }
 },
 "nbformat": 4,
 "nbformat_minor": 5
}
